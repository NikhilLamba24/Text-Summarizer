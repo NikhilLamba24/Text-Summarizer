{
  "nbformat": 4,
  "nbformat_minor": 0,
  "metadata": {
    "colab": {
      "name": "Text_Summarizer(Solera Life Science Internship test).ipynb",
      "provenance": [],
      "collapsed_sections": []
    },
    "kernelspec": {
      "name": "python3",
      "display_name": "Python 3"
    }
  },
  "cells": [
    {
      "cell_type": "markdown",
      "metadata": {
        "id": "Pd60MTI8FxaV",
        "colab_type": "text"
      },
      "source": [
        "Put text in the following \"text\" variable"
      ]
    },
    {
      "cell_type": "code",
      "metadata": {
        "id": "lUqT0RKWFj7C",
        "colab_type": "code",
        "colab": {}
      },
      "source": [
        "text=\"\"\" Bedtime stories are stories that are told after your child has gotten into bed for the evening. Many times they will ask for you to sit with them. This is an easy opportunity to offer to tell them a story. Young children especially love this because it is a treat for them and makes them feel truly important in that moment.\n",
        "\n",
        "You can either read a classic story from a book, find a quick one online, or tell one from memory. Oftentimes a great bedtime story is improvised to suit the mood of your child in that particular moment. These stories are typically ones that have been told for many years in many different ways. Popular stories include ones about princesses and princes, great monsters and knights, children on adventures, and exciting tales with no particular ending to them. This latter type of story is interesting because it allows you to draw the same story out over many nights to keep your child interested and always wanting more. \"\"\""
      ],
      "execution_count": 1,
      "outputs": []
    },
    {
      "cell_type": "markdown",
      "metadata": {
        "id": "q8aHoWm5l__n",
        "colab_type": "text"
      },
      "source": [
        "Importing the requirements"
      ]
    },
    {
      "cell_type": "code",
      "metadata": {
        "id": "aIFCS6fe9WZJ",
        "colab_type": "code",
        "colab": {}
      },
      "source": [
        "import spacy\n",
        "from spacy.lang.en.stop_words import STOP_WORDS\n",
        "from string import punctuation\n"
      ],
      "execution_count": 2,
      "outputs": []
    },
    {
      "cell_type": "code",
      "metadata": {
        "id": "8jAi5uhU9dl8",
        "colab_type": "code",
        "colab": {}
      },
      "source": [
        "stopwords = list(STOP_WORDS)"
      ],
      "execution_count": 3,
      "outputs": []
    },
    {
      "cell_type": "code",
      "metadata": {
        "id": "DlRjDTxX-Ibr",
        "colab_type": "code",
        "colab": {}
      },
      "source": [
        "nlp=spacy.load('en_core_web_sm')"
      ],
      "execution_count": 4,
      "outputs": []
    },
    {
      "cell_type": "code",
      "metadata": {
        "id": "AbFarGJE-OsU",
        "colab_type": "code",
        "colab": {}
      },
      "source": [
        "doc=nlp(text)"
      ],
      "execution_count": 5,
      "outputs": []
    },
    {
      "cell_type": "markdown",
      "metadata": {
        "id": "AnuK67WH-lT3",
        "colab_type": "text"
      },
      "source": [
        "After tokenization, list of tokens:-"
      ]
    },
    {
      "cell_type": "code",
      "metadata": {
        "id": "D39oPbJk-wnb",
        "colab_type": "code",
        "colab": {
          "base_uri": "https://localhost:8080/",
          "height": 54
        },
        "outputId": "2ac0ffb3-ec86-41d2-eb70-f7506cb22850"
      },
      "source": [
        "tokens = [token.text for token in doc]\n",
        "print(tokens)"
      ],
      "execution_count": 6,
      "outputs": [
        {
          "output_type": "stream",
          "text": [
            "[' ', 'Bedtime', 'stories', 'are', 'stories', 'that', 'are', 'told', 'after', 'your', 'child', 'has', 'gotten', 'into', 'bed', 'for', 'the', 'evening', '.', 'Many', 'times', 'they', 'will', 'ask', 'for', 'you', 'to', 'sit', 'with', 'them', '.', 'This', 'is', 'an', 'easy', 'opportunity', 'to', 'offer', 'to', 'tell', 'them', 'a', 'story', '.', 'Young', 'children', 'especially', 'love', 'this', 'because', 'it', 'is', 'a', 'treat', 'for', 'them', 'and', 'makes', 'them', 'feel', 'truly', 'important', 'in', 'that', 'moment', '.', '\\n\\n', 'You', 'can', 'either', 'read', 'a', 'classic', 'story', 'from', 'a', 'book', ',', 'find', 'a', 'quick', 'one', 'online', ',', 'or', 'tell', 'one', 'from', 'memory', '.', 'Oftentimes', 'a', 'great', 'bedtime', 'story', 'is', 'improvised', 'to', 'suit', 'the', 'mood', 'of', 'your', 'child', 'in', 'that', 'particular', 'moment', '.', 'These', 'stories', 'are', 'typically', 'ones', 'that', 'have', 'been', 'told', 'for', 'many', 'years', 'in', 'many', 'different', 'ways', '.', 'Popular', 'stories', 'include', 'ones', 'about', 'princesses', 'and', 'princes', ',', 'great', 'monsters', 'and', 'knights', ',', 'children', 'on', 'adventures', ',', 'and', 'exciting', 'tales', 'with', 'no', 'particular', 'ending', 'to', 'them', '.', 'This', 'latter', 'type', 'of', 'story', 'is', 'interesting', 'because', 'it', 'allows', 'you', 'to', 'draw', 'the', 'same', 'story', 'out', 'over', 'many', 'nights', 'to', 'keep', 'your', 'child', 'interested', 'and', 'always', 'wanting', 'more', '.']\n"
          ],
          "name": "stdout"
        }
      ]
    },
    {
      "cell_type": "code",
      "metadata": {
        "id": "4CNxAa6VGdlN",
        "colab_type": "code",
        "colab": {
          "base_uri": "https://localhost:8080/",
          "height": 35
        },
        "outputId": "b000d4b6-932e-4356-cb7d-5f4a967348ce"
      },
      "source": [
        "punctuation"
      ],
      "execution_count": 7,
      "outputs": [
        {
          "output_type": "execute_result",
          "data": {
            "application/vnd.google.colaboratory.intrinsic": {
              "type": "string"
            },
            "text/plain": [
              "'!\"#$%&\\'()*+,-./:;<=>?@[\\\\]^_`{|}~'"
            ]
          },
          "metadata": {
            "tags": []
          },
          "execution_count": 7
        }
      ]
    },
    {
      "cell_type": "markdown",
      "metadata": {
        "id": "khXOqXf6o8Bk",
        "colab_type": "text"
      },
      "source": [
        "Removing punctuations and checking word frequencies"
      ]
    },
    {
      "cell_type": "code",
      "metadata": {
        "id": "aiI5tjL7GqZ-",
        "colab_type": "code",
        "colab": {}
      },
      "source": [
        "word_frequencies = {}\n",
        "for word in doc:\n",
        "    if word.text.lower() not in stopwords:\n",
        "      if word.text.lower() not in punctuation:\n",
        "         if word.text not in word_frequencies.keys():\n",
        "            word_frequencies[word.text] = 1\n",
        "         else:\n",
        "            word_frequencies[word.text] += 1"
      ],
      "execution_count": 9,
      "outputs": []
    },
    {
      "cell_type": "markdown",
      "metadata": {
        "id": "oolSTWRjpamH",
        "colab_type": "text"
      },
      "source": [
        "Word Frequencies(i.e., how often the word came)"
      ]
    },
    {
      "cell_type": "code",
      "metadata": {
        "id": "wbsBbeJfH0_4",
        "colab_type": "code",
        "colab": {
          "base_uri": "https://localhost:8080/",
          "height": 54
        },
        "outputId": "90250a55-0b45-4461-9fef-da5c88d0ad12"
      },
      "source": [
        "print(word_frequencies)"
      ],
      "execution_count": 10,
      "outputs": [
        {
          "output_type": "stream",
          "text": [
            "{' ': 1, 'Bedtime': 1, 'stories': 4, 'told': 2, 'child': 3, 'gotten': 1, 'bed': 1, 'evening': 1, 'times': 1, 'ask': 1, 'sit': 1, 'easy': 1, 'opportunity': 1, 'offer': 1, 'tell': 2, 'story': 5, 'Young': 1, 'children': 2, 'especially': 1, 'love': 1, 'treat': 1, 'makes': 1, 'feel': 1, 'truly': 1, 'important': 1, 'moment': 2, '\\n\\n': 1, 'read': 1, 'classic': 1, 'book': 1, 'find': 1, 'quick': 1, 'online': 1, 'memory': 1, 'Oftentimes': 1, 'great': 2, 'bedtime': 1, 'improvised': 1, 'suit': 1, 'mood': 1, 'particular': 2, 'typically': 1, 'ones': 2, 'years': 1, 'different': 1, 'ways': 1, 'Popular': 1, 'include': 1, 'princesses': 1, 'princes': 1, 'monsters': 1, 'knights': 1, 'adventures': 1, 'exciting': 1, 'tales': 1, 'ending': 1, 'type': 1, 'interesting': 1, 'allows': 1, 'draw': 1, 'nights': 1, 'interested': 1, 'wanting': 1}\n"
          ],
          "name": "stdout"
        }
      ]
    },
    {
      "cell_type": "code",
      "metadata": {
        "id": "eeiXdAPsH6Pa",
        "colab_type": "code",
        "colab": {}
      },
      "source": [
        "max_frequency = max(word_frequencies.values())"
      ],
      "execution_count": 11,
      "outputs": []
    },
    {
      "cell_type": "code",
      "metadata": {
        "id": "HnyCy28-ITpU",
        "colab_type": "code",
        "colab": {
          "base_uri": "https://localhost:8080/",
          "height": 34
        },
        "outputId": "5bec1175-7fd4-489d-ec6e-9cb203f6d150"
      },
      "source": [
        "max_frequency"
      ],
      "execution_count": 12,
      "outputs": [
        {
          "output_type": "execute_result",
          "data": {
            "text/plain": [
              "5"
            ]
          },
          "metadata": {
            "tags": []
          },
          "execution_count": 12
        }
      ]
    },
    {
      "cell_type": "markdown",
      "metadata": {
        "id": "CFExKEBhplzX",
        "colab_type": "text"
      },
      "source": [
        "Dividing each frequency by max_frequency to achieve the normalized frequency"
      ]
    },
    {
      "cell_type": "code",
      "metadata": {
        "id": "ydc9OeCTIa7J",
        "colab_type": "code",
        "colab": {}
      },
      "source": [
        "for word in word_frequencies.keys():\n",
        "    word_frequencies[word] = word_frequencies[word]/max_frequency"
      ],
      "execution_count": 13,
      "outputs": []
    },
    {
      "cell_type": "code",
      "metadata": {
        "id": "XbbINcrCh4Ip",
        "colab_type": "code",
        "colab": {
          "base_uri": "https://localhost:8080/",
          "height": 54
        },
        "outputId": "823e5923-07b1-4267-84d5-45c7d589e88a"
      },
      "source": [
        "print(word_frequencies)"
      ],
      "execution_count": 14,
      "outputs": [
        {
          "output_type": "stream",
          "text": [
            "{' ': 0.2, 'Bedtime': 0.2, 'stories': 0.8, 'told': 0.4, 'child': 0.6, 'gotten': 0.2, 'bed': 0.2, 'evening': 0.2, 'times': 0.2, 'ask': 0.2, 'sit': 0.2, 'easy': 0.2, 'opportunity': 0.2, 'offer': 0.2, 'tell': 0.4, 'story': 1.0, 'Young': 0.2, 'children': 0.4, 'especially': 0.2, 'love': 0.2, 'treat': 0.2, 'makes': 0.2, 'feel': 0.2, 'truly': 0.2, 'important': 0.2, 'moment': 0.4, '\\n\\n': 0.2, 'read': 0.2, 'classic': 0.2, 'book': 0.2, 'find': 0.2, 'quick': 0.2, 'online': 0.2, 'memory': 0.2, 'Oftentimes': 0.2, 'great': 0.4, 'bedtime': 0.2, 'improvised': 0.2, 'suit': 0.2, 'mood': 0.2, 'particular': 0.4, 'typically': 0.2, 'ones': 0.4, 'years': 0.2, 'different': 0.2, 'ways': 0.2, 'Popular': 0.2, 'include': 0.2, 'princesses': 0.2, 'princes': 0.2, 'monsters': 0.2, 'knights': 0.2, 'adventures': 0.2, 'exciting': 0.2, 'tales': 0.2, 'ending': 0.2, 'type': 0.2, 'interesting': 0.2, 'allows': 0.2, 'draw': 0.2, 'nights': 0.2, 'interested': 0.2, 'wanting': 0.2}\n"
          ],
          "name": "stdout"
        }
      ]
    },
    {
      "cell_type": "markdown",
      "metadata": {
        "id": "xYxti9hAp2EY",
        "colab_type": "text"
      },
      "source": [
        "Sentence Tokenization"
      ]
    },
    {
      "cell_type": "code",
      "metadata": {
        "id": "W1HQHK9mh8eJ",
        "colab_type": "code",
        "colab": {
          "base_uri": "https://localhost:8080/",
          "height": 88
        },
        "outputId": "ef674863-20d9-4b8e-e895-d0159fe45020"
      },
      "source": [
        "sentence_tokens = [sent for sent in doc.sents]\n",
        "print(sentence_tokens)"
      ],
      "execution_count": 15,
      "outputs": [
        {
          "output_type": "stream",
          "text": [
            "[ Bedtime stories are stories that are told after your child has gotten into bed for the evening., Many times they will ask for you to sit with them., This is an easy opportunity to offer to tell them a story., Young children especially love this because it is a treat for them and makes them feel truly important in that moment.\n",
            "\n",
            ", You can either read a classic story from a book, find a quick one online, or tell one from memory., Oftentimes a great bedtime story is improvised to suit the mood of your child in that particular moment., These stories are typically ones that have been told for many years in many different ways., Popular stories include ones about princesses and princes, great monsters and knights, children on adventures, and exciting tales with no particular ending to them., This latter type of story is interesting because it allows you to draw the same story out over many nights to keep your child interested and always wanting more.]\n"
          ],
          "name": "stdout"
        }
      ]
    },
    {
      "cell_type": "markdown",
      "metadata": {
        "id": "nD4eZD8CqAji",
        "colab_type": "text"
      },
      "source": [
        "Creating a dictionary of sentence scores"
      ]
    },
    {
      "cell_type": "code",
      "metadata": {
        "id": "H7HazKtAihZW",
        "colab_type": "code",
        "colab": {}
      },
      "source": [
        "sentence_scores={}\n",
        "for sent in sentence_tokens:\n",
        "    for word in sent:\n",
        "        if word.text.lower() in word_frequencies.keys():\n",
        "           if sent not in sentence_scores.keys():\n",
        "             sentence_scores[sent] = word_frequencies[word.text.lower()]\n",
        "           else: \n",
        "                sentence_scores[sent] += word_frequencies[word.text.lower()]"
      ],
      "execution_count": 16,
      "outputs": []
    },
    {
      "cell_type": "code",
      "metadata": {
        "id": "oiqiyxGcjtfC",
        "colab_type": "code",
        "colab": {
          "base_uri": "https://localhost:8080/",
          "height": 207
        },
        "outputId": "5e368ef6-3e51-480d-8f34-2c2e24071432"
      },
      "source": [
        "sentence_scores"
      ],
      "execution_count": 17,
      "outputs": [
        {
          "output_type": "execute_result",
          "data": {
            "text/plain": [
              "{ Bedtime stories are stories that are told after your child has gotten into bed for the evening.: 3.6000000000000005,\n",
              " Many times they will ask for you to sit with them.: 0.6000000000000001,\n",
              " This is an easy opportunity to offer to tell them a story.: 2.0,\n",
              " Young children especially love this because it is a treat for them and makes them feel truly important in that moment.\n",
              " : 2.4,\n",
              " You can either read a classic story from a book, find a quick one online, or tell one from memory.: 2.8,\n",
              " Oftentimes a great bedtime story is improvised to suit the mood of your child in that particular moment.: 3.6,\n",
              " These stories are typically ones that have been told for many years in many different ways.: 2.4,\n",
              " Popular stories include ones about princesses and princes, great monsters and knights, children on adventures, and exciting tales with no particular ending to them.: 4.200000000000001,\n",
              " This latter type of story is interesting because it allows you to draw the same story out over many nights to keep your child interested and always wanting more.: 4.0}"
            ]
          },
          "metadata": {
            "tags": []
          },
          "execution_count": 17
        }
      ]
    },
    {
      "cell_type": "code",
      "metadata": {
        "id": "3Hs6g5zuj1Mq",
        "colab_type": "code",
        "colab": {}
      },
      "source": [
        "from heapq import nlargest"
      ],
      "execution_count": 19,
      "outputs": []
    },
    {
      "cell_type": "markdown",
      "metadata": {
        "id": "V2ZDwhhBqsAb",
        "colab_type": "text"
      },
      "source": [
        "User can edit the length required of summary by writing the required percentage below"
      ]
    },
    {
      "cell_type": "code",
      "metadata": {
        "id": "TQHrWZsCj9RT",
        "colab_type": "code",
        "colab": {
          "base_uri": "https://localhost:8080/",
          "height": 34
        },
        "outputId": "d6edc6fc-1874-43db-c3d8-2606ec326db9"
      },
      "source": [
        "select_length = int(len(sentence_tokens)*0.3) \"\"\" 30% of sentence with max. score\"\"\"\n",
        "select_length"
      ],
      "execution_count": 20,
      "outputs": [
        {
          "output_type": "execute_result",
          "data": {
            "text/plain": [
              "2"
            ]
          },
          "metadata": {
            "tags": []
          },
          "execution_count": 20
        }
      ]
    },
    {
      "cell_type": "code",
      "metadata": {
        "id": "qxH9b61BkV_c",
        "colab_type": "code",
        "colab": {}
      },
      "source": [
        "summary=nlargest(select_length,sentence_scores, key= sentence_scores.get)"
      ],
      "execution_count": 21,
      "outputs": []
    },
    {
      "cell_type": "code",
      "metadata": {
        "id": "busCIW8NlC7w",
        "colab_type": "code",
        "colab": {
          "base_uri": "https://localhost:8080/",
          "height": 71
        },
        "outputId": "b52311cb-cb4f-48f8-c4a7-45ffdb8542c0"
      },
      "source": [
        "summary"
      ],
      "execution_count": 22,
      "outputs": [
        {
          "output_type": "execute_result",
          "data": {
            "text/plain": [
              "[Popular stories include ones about princesses and princes, great monsters and knights, children on adventures, and exciting tales with no particular ending to them.,\n",
              " This latter type of story is interesting because it allows you to draw the same story out over many nights to keep your child interested and always wanting more.]"
            ]
          },
          "metadata": {
            "tags": []
          },
          "execution_count": 22
        }
      ]
    },
    {
      "cell_type": "code",
      "metadata": {
        "id": "S5ZZA8UalEPb",
        "colab_type": "code",
        "colab": {}
      },
      "source": [
        "final_summary=[word.text for word in summary]"
      ],
      "execution_count": 23,
      "outputs": []
    },
    {
      "cell_type": "code",
      "metadata": {
        "id": "WC4WBCdIlQod",
        "colab_type": "code",
        "colab": {}
      },
      "source": [
        "summary=' '.join(final_summary)"
      ],
      "execution_count": 24,
      "outputs": []
    },
    {
      "cell_type": "code",
      "metadata": {
        "id": "aN6BUS5tliOB",
        "colab_type": "code",
        "colab": {
          "base_uri": "https://localhost:8080/",
          "height": 54
        },
        "outputId": "cf2fd875-f3e0-462d-83d1-b11d2d4487af"
      },
      "source": [
        "print(summary)"
      ],
      "execution_count": 25,
      "outputs": [
        {
          "output_type": "stream",
          "text": [
            "Popular stories include ones about princesses and princes, great monsters and knights, children on adventures, and exciting tales with no particular ending to them. This latter type of story is interesting because it allows you to draw the same story out over many nights to keep your child interested and always wanting more.\n"
          ],
          "name": "stdout"
        }
      ]
    },
    {
      "cell_type": "code",
      "metadata": {
        "id": "9_-VCvlirSEP",
        "colab_type": "code",
        "colab": {
          "base_uri": "https://localhost:8080/",
          "height": 34
        },
        "outputId": "3a5fa72f-bd43-4e18-9e8e-d91b628a60d1"
      },
      "source": [
        "len(text)"
      ],
      "execution_count": 26,
      "outputs": [
        {
          "output_type": "execute_result",
          "data": {
            "text/plain": [
              "950"
            ]
          },
          "metadata": {
            "tags": []
          },
          "execution_count": 26
        }
      ]
    },
    {
      "cell_type": "code",
      "metadata": {
        "id": "mf75GNtZrSHv",
        "colab_type": "code",
        "colab": {
          "base_uri": "https://localhost:8080/",
          "height": 34
        },
        "outputId": "e69b9021-3e38-40f2-d909-118574fd93c2"
      },
      "source": [
        "len(summary)"
      ],
      "execution_count": 27,
      "outputs": [
        {
          "output_type": "execute_result",
          "data": {
            "text/plain": [
              "326"
            ]
          },
          "metadata": {
            "tags": []
          },
          "execution_count": 27
        }
      ]
    }
  ]
}